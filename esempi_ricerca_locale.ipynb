{
  "cells": [
    {
      "cell_type": "markdown",
      "metadata": {
        "id": "Y7ZDszJkShjQ"
      },
      "source": [
        "# Introduzione all'Intelligenza Artificiale\n",
        "## Supporto per le esercitazioni - Ricerca locale\n",
        "\n",
        "Questo notebook rappresenta una guida all'implementazione e utilizzo dei principali algoritmi e modelli presentati nell'ambito del corso \"Introduzione all'Intelligenza Artificiale\", corso di Laurea in Informatica, Università di Pisa, anno accademico 2024/2025.\n",
        "\n",
        "Il codice presentato di seguito è un'implementazione delle funzioni riportate nel testo di riferimento del corso:\n",
        "S. Russell, P. Norvig, \"Artificial Intelligence: A Modern Approach, Pearson, 4th Edition, 2020\n",
        "\n",
        "Ulteriori risorse possono essere reperite online all'indirizzo: https://github.com/aimacode\n",
        "\n",
        "Questo notebook contiene degli esempi di utilizzo degli algoritmi di ricerca implementati in $\\texttt{local_search.py}$.<br/>\n",
        "Di seguito, l'implementazione di alcuni problemi di esempi e l'esecuzione degli algoritmi."
      ]
    },
    {
      "cell_type": "markdown",
      "source": [
        "## Problemi di esempio\n",
        "Per rappresentare un'istanza di un problema concreto, occorre specializzare la classe $\\texttt{Problem}$ implementata in $\\texttt{utils.py}$.<br/>\n",
        "È necessario almeno implementare le funzioni $\\texttt{actions()}$ e $\\texttt{result()}$."
      ],
      "metadata": {
        "id": "vWgA1NMPS9Nw"
      }
    },
    {
      "cell_type": "code",
      "source": [
        "!git clone https://github.com/luigiquara/IIA-python.git\n",
        "%cd IIA-python/src\n",
        "from utils import Problem"
      ],
      "metadata": {
        "id": "eZGaiL0PTSCK",
        "outputId": "c2bdf699-d936-4b38-e89c-8d0509540c0c",
        "colab": {
          "base_uri": "https://localhost:8080/"
        }
      },
      "execution_count": 1,
      "outputs": [
        {
          "output_type": "stream",
          "name": "stdout",
          "text": [
            "Cloning into 'IIA-python'...\n",
            "remote: Enumerating objects: 145, done.\u001b[K\n",
            "remote: Counting objects: 100% (145/145), done.\u001b[K\n",
            "remote: Compressing objects: 100% (112/112), done.\u001b[K\n",
            "remote: Total 145 (delta 74), reused 70 (delta 29), pack-reused 0 (from 0)\u001b[K\n",
            "Receiving objects: 100% (145/145), 91.54 KiB | 4.36 MiB/s, done.\n",
            "Resolving deltas: 100% (74/74), done.\n",
            "/content/IIA-python/src\n"
          ]
        }
      ]
    },
    {
      "cell_type": "markdown",
      "source": [
        "Viene riportata l'implementazione del problema $\\texttt{Labirinto_Teseo}$, insieme alla versione adattata per gli algoritmi di ricerca locale $\\texttt{Labirinto_Teseo_Local}$.<br/>\n",
        "In questa versione viene implementato il metodo $\\texttt{value()}$, che restituisce il valore di ogni nodo nell'albero di ricerca. Questo valore viene utilizzato dagli algoritmi di ricerca locale per determinare il prossimo nodo da selezionare."
      ],
      "metadata": {
        "id": "HrE_hYyAVQDU"
      }
    },
    {
      "cell_type": "code",
      "source": [
        "class Labirinto_Teseo(Problem):\n",
        "\n",
        "    # Definizione di un costruttore custom\n",
        "    # Oltre allo stato iniziale e l'obiettivo, vengono definite le possibili azioni\n",
        "    # È possibile indicare l'ordine con il quale vengono prese in considerazione le azioni\n",
        "    def __init__(self, initial_state='(2,1)', goal_state='(2,4)', possible_actions=['UP', 'DOWN', 'LEFT', 'RIGHT']):\n",
        "        self.initial_state = initial_state\n",
        "        self.goal_state = goal_state\n",
        "        self.possible_actions = possible_actions\n",
        "\n",
        "    # per ogni casella, restituisce l'insieme delle possibili azioni\n",
        "    # in base alla conformazione del labirinto\n",
        "    def actions(self, state):\n",
        "        # initializza la lista delle possibili azioni\n",
        "        # e rimuove le azioni che non possono essere eseguite\n",
        "        possible_actions = self.possible_actions[:]\n",
        "\n",
        "        if (state == '(2,1)') or (state == '(3,2)') or (state == '(1,2)') or (state == '(1,3)') \\\n",
        "            or (state == '(4,1)') or (state == '(4,2)') or (state == '(4,3)') or (state == '(4,4)'):\n",
        "            possible_actions.remove('DOWN')\n",
        "\n",
        "        if (state == '(3,1)') or (state == '(2,2)') or (state == '(2,3)') or (state == '(4,2)') \\\n",
        "           or (state == '(1,1)') or (state == '(1,2)') or (state == '(1,3)') or (state == '(1,4)'):\n",
        "            possible_actions.remove('UP')\n",
        "\n",
        "        if (state == '(3,2)') or (state == '(2,3)') or (state == '(3,3)') or \\\n",
        "        (state == '(1,4)') or (state == '(2,4)') or (state == '(3,4)') or (state == '(4,4)'):\n",
        "            possible_actions.remove('RIGHT')\n",
        "\n",
        "        if (state == '(4,2)') or (state == '(3,4)') or (state == '(3,3)') or \\\n",
        "        (state == '(1,1)') or (state == '(2,1)') or (state == '(3,1)') or (state == '(4,1)'):\n",
        "            possible_actions.remove('LEFT')\n",
        "        return possible_actions\n",
        "\n",
        "    # Restituisce lo stato che si ottiene una volta eseguita l'azione indicata\n",
        "    # mentre si è nella casella 'state'\n",
        "    def result(self, state, action):\n",
        "\n",
        "        # ottiene le coordinate RIGA - COLONNA corrispondenti a state\n",
        "        row = int(state[1:2])\n",
        "        col = int(state[-2:-1])\n",
        "\n",
        "        if action == 'UP':\n",
        "            row = row - 1\n",
        "        elif action == 'DOWN':\n",
        "            row = row + 1\n",
        "        elif action == 'RIGHT':\n",
        "            col = col + 1\n",
        "        elif action == 'LEFT':\n",
        "            col = col - 1\n",
        "\n",
        "        # costruisci la nuova stringa di stato e restituiscila\n",
        "        new_state = '('+str(row)+','+str(col)+')'\n",
        "        return new_state\n",
        "\n",
        "    # Funzione euristica\n",
        "    # Restituisce l'opposto della profondità del nodo\n",
        "    # Viene sottratto il costo del cammino, affinchè f = g + h sia uguale a -node.depth\n",
        "    def h(self, node):\n",
        "        return -len(node) - node.path_cost\n",
        "\n",
        "\n",
        "class Labirinto_Teseo_Local(Labirinto_Teseo):\n",
        "    \"\"\"Versione del problema del labirinto di Teseo\n",
        "        in cui e' definita una funzione value da usare\n",
        "        per algoritmi di ricerca locale.\"\"\"\n",
        "\n",
        "    def value(self, node):\n",
        "        # questa funzione calcola il valore della funzione da massimizzare\n",
        "        # nel nostro caso e' basata sul numero minimo di mosse da compiere\n",
        "        # per arrivare alla soluzione\n",
        "\n",
        "        # calcola row e col dello stato corrispondente al nodo\n",
        "        row = int(node.state[1:2])\n",
        "        col = int(node.state[-2:-1])\n",
        "        # calcola row e col dello stato goal\n",
        "        row_goal = int(self.goal_state[1:2])\n",
        "        col_goal = int(self.goal_state[-2:-1])\n",
        "\n",
        "        return - (abs(row-row_goal) + abs(col-col_goal))"
      ],
      "metadata": {
        "id": "gwtzxPeyTqcj"
      },
      "execution_count": 2,
      "outputs": []
    },
    {
      "cell_type": "markdown",
      "source": [
        "## Esecuzione di algoritmi di ricerca locale"
      ],
      "metadata": {
        "id": "EsWL_xcEWP-N"
      }
    },
    {
      "cell_type": "code",
      "source": [
        "from local_search import hill_climbing, simulated_annealing"
      ],
      "metadata": {
        "collapsed": true,
        "id": "S6YbVchVWSs8"
      },
      "execution_count": 7,
      "outputs": []
    },
    {
      "cell_type": "markdown",
      "source": [
        "Prima dell'esecuzione degli algoritmi, vengono create le istanze dei problemi."
      ],
      "metadata": {
        "id": "nX5es2HsWiYG"
      }
    },
    {
      "cell_type": "code",
      "source": [
        "teseo_local = Labirinto_Teseo_Local()\n",
        "\n",
        "teseo1_local = Labirinto_Teseo_Local(possible_actions=['UP','RIGHT','DOWN','LEFT'])\n",
        "teseo2_local = Labirinto_Teseo_Local(possible_actions=['LEFT','DOWN','RIGHT','UP'])"
      ],
      "metadata": {
        "id": "VEOtT5O7Wi5r"
      },
      "execution_count": 8,
      "outputs": []
    },
    {
      "cell_type": "markdown",
      "source": [
        "Proviamo a risolvere i problemi appena definiti con gli algoritmi di ricerca locale"
      ],
      "metadata": {
        "id": "99hWgWI9Wy7R"
      }
    },
    {
      "cell_type": "code",
      "source": [
        "print('Ricerca hill climbing')\n",
        "solution = hill_climbing(teseo1_local)\n",
        "print(solution)\n",
        "print(solution.path_actions())"
      ],
      "metadata": {
        "id": "Alxm4IqOWxFN",
        "outputId": "714d4c61-d1c0-4749-f9b6-c6c2ce239ef0",
        "colab": {
          "base_uri": "https://localhost:8080/"
        }
      },
      "execution_count": 9,
      "outputs": [
        {
          "output_type": "stream",
          "name": "stdout",
          "text": [
            "Ricerca hill climbing\n",
            "state: (2,3) - path cost: 2\n",
            "['RIGHT', 'RIGHT']\n"
          ]
        }
      ]
    },
    {
      "cell_type": "code",
      "source": [
        "print('Simulated annealing')\n",
        "solution = simulated_annealing(teseo1_local)\n",
        "print(solution)\n",
        "print(solution.path_actions())"
      ],
      "metadata": {
        "id": "V5JuHUgnXHHp",
        "outputId": "ca25e544-83c7-4c7f-980a-bd782364998f",
        "colab": {
          "base_uri": "https://localhost:8080/"
        }
      },
      "execution_count": 10,
      "outputs": [
        {
          "output_type": "stream",
          "name": "stdout",
          "text": [
            "Simulated annealing\n",
            "state: (2,3) - path cost: 8\n",
            "['UP', 'DOWN', 'UP', 'RIGHT', 'RIGHT', 'RIGHT', 'DOWN', 'LEFT']\n"
          ]
        }
      ]
    }
  ],
  "metadata": {
    "language_info": {
      "name": "python"
    },
    "colab": {
      "provenance": []
    },
    "kernelspec": {
      "name": "python3",
      "display_name": "Python 3"
    }
  },
  "nbformat": 4,
  "nbformat_minor": 0
}