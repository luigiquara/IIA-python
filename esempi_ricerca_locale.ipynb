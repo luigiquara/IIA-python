{
 "cells": [
  {
   "cell_type": "markdown",
   "metadata": {},
   "source": [
    "# Introduzione all'Intelligenza Artificiale\n",
    "## Supporto per le esercitazioni - Ricerca locale"
   ]
  }
 ],
 "metadata": {
  "language_info": {
   "name": "python"
  }
 },
 "nbformat": 4,
 "nbformat_minor": 2
}
