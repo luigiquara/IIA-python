{
  "cells": [
    {
      "cell_type": "markdown",
      "metadata": {
        "id": "Y7ZDszJkShjQ"
      },
      "source": [
        "# Introduzione all'Intelligenza Artificiale\n",
        "## Supporto per le esercitazioni - Ricerca locale\n",
        "\n",
        "Questo notebook rappresenta una guida all'implementazione e utilizzo dei principali algoritmi e modelli presentati nell'ambito del corso \"Introduzione all'Intelligenza Artificiale\", corso di Laurea in Informatica, Università di Pisa, anno accademico 2024/2025.\n",
        "\n",
        "Il codice presentato di seguito è un'implementazione delle funzioni riportate nel testo di riferimento del corso:\n",
        "S. Russell, P. Norvig, \"Artificial Intelligence: A Modern Approach, Pearson, 4th Edition, 2020\n",
        "\n",
        "Ulteriori risorse possono essere reperite online all'indirizzo: https://github.com/aimacode\n",
        "\n",
        "Questo notebook contiene degli esempi di utilizzo degli algoritmi di ricerca implementati in $\\texttt{local_search.py}$.<br/>\n",
        "Di seguito, l'implementazione di alcuni problemi di esempi e l'esecuzione degli algoritmi."
      ]
    },
    {
      "cell_type": "markdown",
      "source": [
        "## Problemi di esempio\n",
        "Per rappresentare un'istanza di un problema concreto, occorre specializzare la classe $\\texttt{Problem}$ implementata in $\\texttt{utils.py}$.<br/>\n",
        "È necessario almeno implementare le funzioni $\\texttt{actions()}$ e $\\texttt{result()}$."
      ],
      "metadata": {
        "id": "vWgA1NMPS9Nw"
      }
    },
    {
      "cell_type": "code",
      "source": [
        "!git clone https://github.com/luigiquara/IIA-python.git\n",
        "%cd IIA-python/src\n",
        "from utils import Problem"
      ],
      "metadata": {
        "id": "eZGaiL0PTSCK",
        "outputId": "c2bdf699-d936-4b38-e89c-8d0509540c0c",
        "colab": {
          "base_uri": "https://localhost:8080/"
        }
      },
      "execution_count": null,
      "outputs": [
        {
          "output_type": "stream",
          "name": "stdout",
          "text": [
            "Cloning into 'IIA-python'...\n",
            "remote: Enumerating objects: 145, done.\u001b[K\n",
            "remote: Counting objects: 100% (145/145), done.\u001b[K\n",
            "remote: Compressing objects: 100% (112/112), done.\u001b[K\n",
            "remote: Total 145 (delta 74), reused 70 (delta 29), pack-reused 0 (from 0)\u001b[K\n",
            "Receiving objects: 100% (145/145), 91.54 KiB | 4.36 MiB/s, done.\n",
            "Resolving deltas: 100% (74/74), done.\n",
            "/content/IIA-python/src\n"
          ]
        }
      ]
    },
    {
      "cell_type": "markdown",
      "source": [
        "### Labirinto di Teseo\n",
        "In figura viene rapprensentato il problema \"Il labirinto di Teseo\".\n",
        "\n",
        "![][image1]\n",
        "\n",
        "[image1]: <data:image/png;base64,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>"
      ],
      "metadata": {
        "id": "azWCu-C5_oG2"
      }
    },
    {
      "cell_type": "markdown",
      "source": [
        "Viene riportata l'implementazione del problema $\\texttt{Labirinto_Teseo}$, insieme alla versione adattata per gli algoritmi di ricerca locale $\\texttt{Labirinto_Teseo_Local}$.<br/>\n",
        "In questa versione viene implementato il metodo $\\texttt{value()}$, che restituisce il valore di ogni nodo nell'albero di ricerca. Questo valore viene utilizzato dagli algoritmi di ricerca locale per determinare il prossimo nodo da selezionare."
      ],
      "metadata": {
        "id": "HrE_hYyAVQDU"
      }
    },
    {
      "cell_type": "code",
      "source": [
        "class Labirinto_Teseo(Problem):\n",
        "\n",
        "    # Definizione di un costruttore custom\n",
        "    # Oltre allo stato iniziale e l'obiettivo, vengono definite le possibili azioni\n",
        "    # È possibile indicare l'ordine con il quale vengono prese in considerazione le azioni\n",
        "    def __init__(self, initial_state='(2,1)', goal_state='(2,4)', possible_actions=['UP', 'DOWN', 'LEFT', 'RIGHT']):\n",
        "        self.initial_state = initial_state\n",
        "        self.goal_state = goal_state\n",
        "        self.possible_actions = possible_actions\n",
        "\n",
        "    # per ogni casella, restituisce l'insieme delle possibili azioni\n",
        "    # in base alla conformazione del labirinto\n",
        "    def actions(self, state):\n",
        "        # initializza la lista delle possibili azioni\n",
        "        # e rimuove le azioni che non possono essere eseguite\n",
        "        possible_actions = self.possible_actions[:]\n",
        "\n",
        "        if (state == '(2,1)') or (state == '(3,2)') or (state == '(1,2)') or (state == '(1,3)') \\\n",
        "            or (state == '(4,1)') or (state == '(4,2)') or (state == '(4,3)') or (state == '(4,4)'):\n",
        "            possible_actions.remove('DOWN')\n",
        "\n",
        "        if (state == '(3,1)') or (state == '(2,2)') or (state == '(2,3)') or (state == '(4,2)') \\\n",
        "           or (state == '(1,1)') or (state == '(1,2)') or (state == '(1,3)') or (state == '(1,4)'):\n",
        "            possible_actions.remove('UP')\n",
        "\n",
        "        if (state == '(3,2)') or (state == '(2,3)') or (state == '(3,3)') or \\\n",
        "        (state == '(1,4)') or (state == '(2,4)') or (state == '(3,4)') or (state == '(4,4)'):\n",
        "            possible_actions.remove('RIGHT')\n",
        "\n",
        "        if (state == '(4,2)') or (state == '(3,4)') or (state == '(3,3)') or \\\n",
        "        (state == '(1,1)') or (state == '(2,1)') or (state == '(3,1)') or (state == '(4,1)'):\n",
        "            possible_actions.remove('LEFT')\n",
        "        return possible_actions\n",
        "\n",
        "    # Restituisce lo stato che si ottiene una volta eseguita l'azione indicata\n",
        "    # mentre si è nella casella 'state'\n",
        "    def result(self, state, action):\n",
        "\n",
        "        # ottiene le coordinate RIGA - COLONNA corrispondenti a state\n",
        "        row = int(state[1:2])\n",
        "        col = int(state[-2:-1])\n",
        "\n",
        "        if action == 'UP':\n",
        "            row = row - 1\n",
        "        elif action == 'DOWN':\n",
        "            row = row + 1\n",
        "        elif action == 'RIGHT':\n",
        "            col = col + 1\n",
        "        elif action == 'LEFT':\n",
        "            col = col - 1\n",
        "\n",
        "        # costruisci la nuova stringa di stato e restituiscila\n",
        "        new_state = '('+str(row)+','+str(col)+')'\n",
        "        return new_state\n",
        "\n",
        "    # Funzione euristica\n",
        "    # Restituisce l'opposto della profondità del nodo\n",
        "    # Viene sottratto il costo del cammino, affinchè f = g + h sia uguale a -node.depth\n",
        "    def h(self, node):\n",
        "        return -len(node) - node.path_cost\n",
        "\n",
        "\n",
        "class Labirinto_Teseo_Local(Labirinto_Teseo):\n",
        "    \"\"\"Versione del problema del labirinto di Teseo\n",
        "        in cui e' definita una funzione value da usare\n",
        "        per algoritmi di ricerca locale.\"\"\"\n",
        "\n",
        "    def value(self, node):\n",
        "        # questa funzione calcola il valore della funzione da massimizzare\n",
        "        # nel nostro caso e' basata sul numero minimo di mosse da compiere\n",
        "        # per arrivare alla soluzione\n",
        "\n",
        "        # calcola row e col dello stato corrispondente al nodo\n",
        "        row = int(node.state[1:2])\n",
        "        col = int(node.state[-2:-1])\n",
        "        # calcola row e col dello stato goal\n",
        "        row_goal = int(self.goal_state[1:2])\n",
        "        col_goal = int(self.goal_state[-2:-1])\n",
        "\n",
        "        return - (abs(row-row_goal) + abs(col-col_goal))"
      ],
      "metadata": {
        "id": "gwtzxPeyTqcj"
      },
      "execution_count": null,
      "outputs": []
    },
    {
      "cell_type": "markdown",
      "source": [
        "## Esecuzione di algoritmi di ricerca locale"
      ],
      "metadata": {
        "id": "EsWL_xcEWP-N"
      }
    },
    {
      "cell_type": "code",
      "source": [
        "from local_search import hill_climbing, simulated_annealing"
      ],
      "metadata": {
        "collapsed": true,
        "id": "S6YbVchVWSs8"
      },
      "execution_count": null,
      "outputs": []
    },
    {
      "cell_type": "markdown",
      "source": [
        "Prima dell'esecuzione degli algoritmi, vengono create le istanze dei problemi."
      ],
      "metadata": {
        "id": "nX5es2HsWiYG"
      }
    },
    {
      "cell_type": "code",
      "source": [
        "teseo_local = Labirinto_Teseo_Local()\n",
        "\n",
        "teseo1_local = Labirinto_Teseo_Local(possible_actions=['UP','RIGHT','DOWN','LEFT'])\n",
        "teseo2_local = Labirinto_Teseo_Local(possible_actions=['LEFT','DOWN','RIGHT','UP'])"
      ],
      "metadata": {
        "id": "VEOtT5O7Wi5r"
      },
      "execution_count": null,
      "outputs": []
    },
    {
      "cell_type": "markdown",
      "source": [
        "Proviamo a risolvere i problemi appena definiti con gli algoritmi di ricerca locale"
      ],
      "metadata": {
        "id": "99hWgWI9Wy7R"
      }
    },
    {
      "cell_type": "code",
      "source": [
        "print('Ricerca hill climbing')\n",
        "solution = hill_climbing(teseo1_local)\n",
        "print(solution)\n",
        "print(solution.path_actions())"
      ],
      "metadata": {
        "id": "Alxm4IqOWxFN",
        "outputId": "714d4c61-d1c0-4749-f9b6-c6c2ce239ef0",
        "colab": {
          "base_uri": "https://localhost:8080/"
        }
      },
      "execution_count": null,
      "outputs": [
        {
          "output_type": "stream",
          "name": "stdout",
          "text": [
            "Ricerca hill climbing\n",
            "state: (2,3) - path cost: 2\n",
            "['RIGHT', 'RIGHT']\n"
          ]
        }
      ]
    },
    {
      "cell_type": "code",
      "source": [
        "print('Simulated annealing')\n",
        "solution = simulated_annealing(teseo1_local)\n",
        "print(solution)\n",
        "print(solution.path_actions())"
      ],
      "metadata": {
        "id": "V5JuHUgnXHHp",
        "outputId": "ca25e544-83c7-4c7f-980a-bd782364998f",
        "colab": {
          "base_uri": "https://localhost:8080/"
        }
      },
      "execution_count": null,
      "outputs": [
        {
          "output_type": "stream",
          "name": "stdout",
          "text": [
            "Simulated annealing\n",
            "state: (2,3) - path cost: 8\n",
            "['UP', 'DOWN', 'UP', 'RIGHT', 'RIGHT', 'RIGHT', 'DOWN', 'LEFT']\n"
          ]
        }
      ]
    }
  ],
  "metadata": {
    "language_info": {
      "name": "python"
    },
    "colab": {
      "provenance": []
    },
    "kernelspec": {
      "name": "python3",
      "display_name": "Python 3"
    }
  },
  "nbformat": 4,
  "nbformat_minor": 0
}