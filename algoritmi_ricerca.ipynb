{
  "nbformat": 4,
  "nbformat_minor": 0,
  "metadata": {
    "colab": {
      "provenance": [],
      "authorship_tag": "ABX9TyPEuHHsrZZMwUUJsHizte8h"
    },
    "kernelspec": {
      "name": "python3",
      "display_name": "Python 3"
    },
    "language_info": {
      "name": "python"
    }
  },
  "cells": [
    {
      "cell_type": "code",
      "execution_count": 1,
      "metadata": {
        "colab": {
          "base_uri": "https://localhost:8080/"
        },
        "id": "vPvYL6TRyerA",
        "outputId": "5b3cc2de-5347-4bdd-8786-cd1302388b4d"
      },
      "outputs": [
        {
          "output_type": "stream",
          "name": "stdout",
          "text": [
            "ciao\n"
          ]
        }
      ],
      "source": [
        "print('ciao')"
      ]
    }
  ]
}