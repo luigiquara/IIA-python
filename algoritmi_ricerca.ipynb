{
  "nbformat": 4,
  "nbformat_minor": 0,
  "metadata": {
    "colab": {
      "provenance": [],
      "authorship_tag": "ABX9TyNtBj9tip/KRc7IeZi0usvE"
    },
    "kernelspec": {
      "name": "python3",
      "display_name": "Python 3"
    },
    "language_info": {
      "name": "python"
    }
  },
  "cells": [
    {
      "cell_type": "markdown",
      "source": [
        "# Introduzione all'Intelligenza Artificiale<br/>Supporto per le Esercitazioni\n"
      ],
      "metadata": {
        "id": "uFbU0aeT0ZFR"
      }
    },
    {
      "cell_type": "markdown",
      "source": [
        "Questo notebook rappresenta una guida all'implementazione e utilizzo dei principali algoritmi e modelli presentati nell'ambito del corso \"Introduzione all'Intelligenza Artificiale\", corso di Laurea in Informatica, Università di Pisa, anno accademico 2024/2025.\n",
        "\n",
        "Il codice presentato di seguito è un'implementazione delle funzioni riportate nel testo di riferimento del corso:<br/>\n",
        "*S. Russell, P. Norvig, \"Artificial Intelligence: A Modern Approach, Pearson, 4th Edition, 2020*\n",
        "\n",
        "Ulteriori risorse possono essere reperite online all'indirizzo: https://github.com/aimacode"
      ],
      "metadata": {
        "id": "3fdQ3mmQ10ZW"
      }
    },
    {
      "cell_type": "markdown",
      "source": [
        "# Algoritmi di Ricerca\n",
        "\n",
        "Di seguito, verrano presentati i principali algoritmi per risolvere problemi di ricerca."
      ],
      "metadata": {
        "id": "C87Ao3g46f9a"
      }
    },
    {
      "cell_type": "markdown",
      "source": [
        "## Classi e Strutture Dati\n",
        "Introduciamo le astrazioni necessarie per poter rappresentare e risolvere un problema di ricerca.<br/>\n",
        "Queste classi saranno i *building blocks* per poter successivamente implementare gli algoritmi risolutori."
      ],
      "metadata": {
        "id": "lTiq5iLf6ojo"
      }
    },
    {
      "cell_type": "markdown",
      "source": [
        "### Come rappresentare un problema - La classe Problem"
      ],
      "metadata": {
        "id": "eWxUs10L8Ipk"
      }
    },
    {
      "cell_type": "code",
      "source": [],
      "metadata": {
        "id": "OwnFr2nf7vDR"
      },
      "execution_count": null,
      "outputs": []
    }
  ]
}