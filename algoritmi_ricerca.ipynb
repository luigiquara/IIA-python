{
  "nbformat": 4,
  "nbformat_minor": 0,
  "metadata": {
    "colab": {
      "provenance": [],
      "authorship_tag": "ABX9TyMOSVUtvVGk7eBe68LOG/QX"
    },
    "kernelspec": {
      "name": "python3",
      "display_name": "Python 3"
    },
    "language_info": {
      "name": "python"
    }
  },
  "cells": [
    {
      "cell_type": "markdown",
      "source": [
        "# Introduzione all'Intelligenza Artificiale<br/>Supporto per le Esercitazioni\n"
      ],
      "metadata": {
        "id": "uFbU0aeT0ZFR"
      }
    },
    {
      "cell_type": "markdown",
      "source": [
        "Questo notebook rappresenta una guida all'implementazione e utilizzo dei principali algoritmi e modelli presentati nell'ambito del corso \"Introduzione all'Intelligenza Artificiale\", corso di Laurea in Informatica, Università di Pisa, anno accademico 2024/2025.\n",
        "\n",
        "Il codice presentato di seguito è un'implementazione delle funzioni riportate nel testo di riferimento del corso:<br/>\n",
        "*S. Russell, P. Norvig, \"Artificial Intelligence: A Modern Approach, Pearson, 4th Edition, 2020*\n",
        "\n",
        "Ulteriori risorse possono essere reperite online all'indirizzo: https://github.com/aimacode"
      ],
      "metadata": {
        "id": "3fdQ3mmQ10ZW"
      }
    },
    {
      "cell_type": "markdown",
      "source": [
        "# Algoritmi di Ricerca\n",
        "\n",
        "Di seguito, verrano presentati i principali algoritmi per risolvere problemi di ricerca."
      ],
      "metadata": {
        "id": "C87Ao3g46f9a"
      }
    },
    {
      "cell_type": "markdown",
      "source": [
        "## Classi e Strutture Dati\n",
        "Introduciamo le astrazioni necessarie per poter rappresentare e risolvere un problema di ricerca.<br/>\n",
        "Queste classi saranno i *building blocks* per poter successivamente implementare gli algoritmi risolutori."
      ],
      "metadata": {
        "id": "lTiq5iLf6ojo"
      }
    },
    {
      "cell_type": "code",
      "source": [
        "class Problem:\n",
        "    # Costrutture. Specifica lo stato iniziale e lo stato (o la lista di stati) obiettivo\n",
        "    def __init__(self, initial_state=None, goal_state=None):\n",
        "        self.initial_state = initial_state\n",
        "        self.goal_state = goal_state\n",
        "\n",
        "    # Metodo astratto, deve essere implementato in ogni sottoclasse che specializza Problem\n",
        "    # Dato lo stato 'state', restituisce la lista di azioni che possono essere eseguite\n",
        "    def actions(self, state): raise NotImplementedError\n",
        "\n",
        "    # Metodo astratto, deve essere implementato in ogni sottoclasse che specializza Problem\n",
        "    # Dato lo stato 'state' e l'azione 'action', restituisce lo stato risultante in base al modello di transizione del problema\n",
        "    def result(self, state, action): raise NotImplementedError\n",
        "\n",
        "    # Dato lo stato 'state', restituisce True se è lo stato obiettivo, False altrimenti\n",
        "    def is_goal(self, state):\n",
        "        # controllo se self.goal_state è una lista, quindi esistono molteplici stati obiettivi\n",
        "        if isinstance(self.goal_state, list):\n",
        "            return state in self.goal_state\n",
        "        # altrimenti, self.goal_state è un solo elemento, quindi esiste un solo stato obiettivo\n",
        "        else: return state == self.goal_state\n",
        "\n",
        "    # Restituisce il costo dell'esecuzione dell'azione 'action' che porti dallo 'stateA' allo 'stateB'\n",
        "    # Questa implementazione di default prevede costo unitario per ogni azione\n",
        "    def action_cost(self, action, stateA, stateB): return 1\n",
        "\n",
        "    def h(self, node): return 0"
      ],
      "metadata": {
        "id": "OwnFr2nf7vDR"
      },
      "execution_count": null,
      "outputs": []
    },
    {
      "cell_type": "markdown",
      "source": [
        "### Esempio di utilizzo della classe Problem, per la rappresentazione di un problema specifico\n",
        "\n",
        "Per rappresentare un problema concreto, occorre specializzare la classe Problem, implementanto almeno le funzioni *actions* e *result*.<br/>\n",
        "Un esempio semplice di problema, la cui mappa degli stati è raffigurata in figura, è definito nella classe *ToyProblem1*\n",
        "![](https://github.com/luigiquara/IIA-python/blob/main/img/toy_problem1.png)"
      ],
      "metadata": {
        "id": "Dji2rUB_J0I3"
      }
    },
    {
      "cell_type": "markdown",
      "source": [
        "### Come rappresentare un nodo nell'albero di ricerca - La classe Node"
      ],
      "metadata": {
        "id": "QpKQL51vckMN"
      }
    },
    {
      "cell_type": "code",
      "source": [
        "class Node:\n",
        "    # Costruttore. Specifica lo stato associato al nodo, il nodo padre,\n",
        "    # l'azione che ha generato il nodo, il costo del cammino dalla radice al nodo\n",
        "    def __init__(self, state, parent=None, action=None, path_cost=0):\n",
        "        self.state = state\n",
        "        self.parent = parent\n",
        "        self.action = action\n",
        "        self.path_cost = path_cost\n",
        "\n",
        "    # Specifica la stringa da stampare per rappresentare il nodo\n",
        "    def __repr__(self):\n",
        "        description = f'state: {self.state} - path cost: {self.path_cost}'\n",
        "        return description\n",
        "\n",
        "    # Restituisce la profondità del nodo\n",
        "    # Se il nodo corrente non ha nodo padre, i.e. self.parent is None, la profondità è 0\n",
        "    # Altrimenti, la profondità è quella del nodo padre più 1\n",
        "    def __len__(self): return 0 if self.parent is None else return 1 + len(self.parent)\n",
        "\n",
        "    # Restituisce la lista delle azioni compiute per arrivare al nodo corrente\n",
        "    # Se il nodo corrente non ha nodo padre, i.e. self.parent is None, nessuna azione è stata ancora eseguita\n",
        "    def path_actions(self):\n",
        "        if self.parent is None: actions = []\n",
        "        else: actions = self.parent.path_actions().append(self.action)\n",
        "        return actions\n",
        "\n",
        "    # Restituisce la lista degli stati attraversati per arrivare al nodo corrente\n",
        "    # Se il node corrente non ha nodo padre, i.e. self.parent is None, la lista degli stati corrisponde allo stato attuale\n",
        "    def path_states(self):\n",
        "        if self.parent is None: states = self.state\n",
        "        else: states = self.parent.path_states().append(self.state)\n",
        "        return states\n",
        "\n",
        "    # Funzione che espande un nodo, generando tutti i nodi figli\n",
        "    # La keyword \"yield\" permette di creare un generatore, che restituisce un nodo figlio alla volta\n",
        "    def expand(self, problem):\n",
        "        s = self.state\n",
        "        # per ogni possibile azione nello stato corrente\n",
        "        for action in problem.actions(s):\n",
        "            s1 = problem.result(s, action)\n",
        "            cost = self.path_cost + problem.action_cost(action, s, s1)\n",
        "            yield Node(s1, self, action, cost)"
      ],
      "metadata": {
        "id": "mVnBnAdicuYQ"
      },
      "execution_count": null,
      "outputs": []
    }
  ]
}