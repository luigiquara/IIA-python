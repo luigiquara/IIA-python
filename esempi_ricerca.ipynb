{
  "cells": [
    {
      "cell_type": "markdown",
      "metadata": {
        "id": "VWuBUTKqv-11"
      },
      "source": [
        "# Introduzione all'Intelligenza Artificiale\n",
        "## Supporto per le esercitazioni"
      ]
    },
    {
      "cell_type": "markdown",
      "metadata": {
        "id": "dR-GSdW8wUHQ"
      },
      "source": [
        "Questo notebook rappresenta una guida all'implementazione e utilizzo dei principali algoritmi e modelli presentati nell'ambito del corso \"Introduzione all'Intelligenza Artificiale\", corso di Laurea in Informatica, Università di Pisa, anno accademico 2024/2025.\n",
        "\n",
        "Il codice presentato di seguito è un'implementazione delle funzioni riportate nel testo di riferimento del corso:<br/>\n",
        "*S. Russell, P. Norvig, \"Artificial Intelligence: A Modern Approach, Pearson, 4th Edition, 2020*\n",
        "\n",
        "Ulteriori risorse possono essere reperite online all'indirizzo: https://github.com/aimacode"
      ]
    },
    {
      "cell_type": "markdown",
      "metadata": {
        "id": "bts1hpnPweC2"
      },
      "source": [
        "Questo notebook contiene degli esempi di utilizzo degli algoritmi di ricerca implementati in $\\texttt{search.py}$.<br/>\n",
        "Di seguito, l'implementazione di alcuni problemi di esempi e l'esecuzione degli algoritmi."
      ]
    },
    {
      "cell_type": "markdown",
      "metadata": {
        "id": "WtoA8BpZ3N1v"
      },
      "source": [
        "## Problemi di esempio\n",
        "Per rappresentare un'istanza di un problema concreto, occorre specializzare la classe $\\texttt{Problem}$ implementata in $\\texttt{utils.py}$.<br/>\n",
        "È necessario almeno implementare le funzioni $\\texttt{actions()}$ e $\\texttt{result()}$."
      ]
    },
    {
      "cell_type": "code",
      "execution_count": 15,
      "metadata": {
        "colab": {
          "base_uri": "https://localhost:8080/"
        },
        "id": "6yRejvnFB59k",
        "outputId": "d9a1b96d-851c-4449-f2fd-b71faca52335"
      },
      "outputs": [
        {
          "output_type": "stream",
          "name": "stdout",
          "text": [
            "fatal: destination path 'IIA-python' already exists and is not an empty directory.\n",
            "/content/IIA-python/src/IIA-python/src\n"
          ]
        }
      ],
      "source": [
        "!git clone https://github.com/luigiquara/IIA-python.git\n",
        "%cd IIA-python/src\n",
        "from utils import Problem"
      ]
    },
    {
      "cell_type": "markdown",
      "metadata": {
        "id": "vXc1D51RxE5x"
      },
      "source": [
        "### **ToyProblem1**\n",
        "Un semplice esempio di problema è definito nella classe $\\texttt{ToyProblem1}$.<br/>\n",
        "La figura indica la mappa degli stati che il problema implementa.\n",
        "![toy_problem1.png](data:image/png;base64,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)"
      ]
    },
    {
      "cell_type": "code",
      "execution_count": 16,
      "metadata": {
        "id": "Isr7ao-YvPjO"
      },
      "outputs": [],
      "source": [
        "class ToyProblem1(Problem):\n",
        "    # utilizza il costruttore di default della classe Problem\n",
        "\n",
        "    # per ogni stato, restituisce l'insieme delle possibili azioni\n",
        "    def actions(self, state):\n",
        "        if state == 'A':\n",
        "            possible_actions = ['A->B', 'A->C']\n",
        "        elif state == 'B':\n",
        "            possible_actions = ['B->A', 'B->C']\n",
        "        elif state == 'C':\n",
        "            possible_actions = ['C->B', 'C->D']\n",
        "        elif state == 'D':\n",
        "            possible_actions = ['D->E', 'D->F']\n",
        "        elif state == 'E':\n",
        "            possible_actions = ['E->D', 'E->G']\n",
        "        elif state == 'F':\n",
        "            possible_actions = ['F->D', 'F->G']\n",
        "        elif state == 'G':\n",
        "            possible_actions = ['G->E', 'G->F']\n",
        "\n",
        "        else: # caso di default\n",
        "            possible_actions = []\n",
        "\n",
        "        return possible_actions\n",
        "\n",
        "    # Dati uno stato e un'azione, restituisce lo stato risultante\n",
        "    def result(self, state, action):\n",
        "        # in questo caso, il nuovo stato è semplicemente l'ultimo carattere\n",
        "        # della stringa che rappresenta l'azione\n",
        "        new_state = action[-1:]\n",
        "        return new_state"
      ]
    },
    {
      "cell_type": "markdown",
      "metadata": {
        "id": "u2kFP_8S2qxY"
      },
      "source": [
        "### **ToyProblem2**\n",
        "Questo esempio specializza la classe $\\texttt{ToyProblem1}$:, reimplementando la funzione $\\texttt{action_cost()}$ per modificare il costo di alcuni cammini."
      ]
    },
    {
      "cell_type": "code",
      "execution_count": 17,
      "metadata": {
        "id": "NVcpuPW42qUG"
      },
      "outputs": [],
      "source": [
        "class ToyProblem2(ToyProblem1):\n",
        "    # utilizza il costruttore di default della classe Problem\n",
        "    # e le funzioni actions e result definite dalla classe ToyProblem1\n",
        "\n",
        "    def action_cost(self, action, stateA, stateB):\n",
        "        if action == 'A->C': return 3\n",
        "        elif action == 'E->G': return 2\n",
        "        else: return 1"
      ]
    },
    {
      "cell_type": "markdown",
      "metadata": {
        "id": "c4DlDq6r3VRC"
      },
      "source": [
        "### **Viaggio in Romania**\n",
        "\n",
        "La classe $\\texttt{RomaniaProblem}$ implementa il problema di ricerca relativo alla mappa della Romania (AIMA - Fig. 3.1)"
      ]
    },
    {
      "cell_type": "code",
      "execution_count": 18,
      "metadata": {
        "id": "4QzXD_2C3COD"
      },
      "outputs": [],
      "source": [
        "class RomaniaProblem(Problem):\n",
        "\n",
        "    # posizioni delle città sulla mappa\n",
        "    # necessarie per il calcolo della funzione euristica\n",
        "    posizione = {'Arad':[91, 492], 'Bucharest':[400, 327], 'Craiova':[253, 288],\n",
        "                 'Drobeta':[165, 299], 'Eforie':[562, 293],'Fagaras':[305, 449],\n",
        "                 'Giurgiu':[375, 270], 'Hirsova':[534, 350],'Iasi':[473, 506],\n",
        "                 'Lugoj':[165, 379], 'Mehadia':[168, 339], 'Neamt':[406, 537],\n",
        "                 'Oradea':[131, 571], 'Pitesti':[320, 368], 'Rimnicu':[233, 410],\n",
        "                 'Sibiu':[207, 457], 'Timisoara':[94, 410], 'Urziceni':[456, 350],\n",
        "                 'Vaslui':[509, 444], 'Zerind':[108, 531]}\n",
        "\n",
        "    # per ogni stato, restituisce l'insieme delle azioni possibili\n",
        "    def actions(self, state):\n",
        "        if state == 'Arad':\n",
        "            possible_actions = ['Arad->Zerind','Arad->Sibiu','Arad->Timisoara']\n",
        "        elif state == 'Bucharest':\n",
        "            possible_actions = ['Bucharest->Urziceni','Bucharest->Pitesti','Bucharest->Giurgiu','Bucharest->Fagaras']\n",
        "        elif state == 'Craiova':\n",
        "            possible_actions = ['Craiova->Drobeta', 'Craiova->Rimnicu','Craiova->Pitesti']\n",
        "        elif state == 'Drobeta':\n",
        "            possible_actions = ['Drobeta->Mehadia','Drobeta->Craiova']\n",
        "        elif state == 'Eforie':\n",
        "            possible_actions = ['Eforie->Hirsova']\n",
        "        elif state == 'Fagaras':\n",
        "            possible_actions = ['Fagaras->Bucharest','Faragas->Sibiu']\n",
        "        elif state == 'Hirsova':\n",
        "            possible_actions = ['Hirsova->Urziceni','Hirsova->Eforie']\n",
        "        elif state == 'Iasi':\n",
        "            possible_actions = ['Iasi->Vaslui','Iasi->Neamt']\n",
        "        elif state == 'Lugoj':\n",
        "            possible_actions =['Lugoj->Timisoara','Lugoj->Mehadia']\n",
        "        elif state == 'Oradea':\n",
        "            possible_actions = ['Oradea->Zerind', 'Oradea->Sibiu']\n",
        "        elif state == 'Pitesti':\n",
        "            possible_actions = ['Pitesti->Rimnicu','Pitesti->Craiova','Pitesti->Bucharest']\n",
        "        elif state == 'Rimnicu':\n",
        "            possible_actions = ['Rimnicu->Sibiu','Rimnicu->Craiova','Rimnicu->Pitesti']\n",
        "        elif state == 'Urziceni':\n",
        "            possible_actions = ['Urziceni->Vaslui','Urziceni->Bucharest','Urziceni->Hirsova']\n",
        "        elif state == 'Zerind':\n",
        "            possible_actions = ['Zerind->Arad','Zerind->Oradea']\n",
        "        elif state == 'Sibiu':\n",
        "            possible_actions = ['Sibiu->Fagaras','Sibiu->Rimnicu','Sibiu->Arad','Sibiu->Oradea']\n",
        "        elif state == 'Timisoara':\n",
        "            possible_actions = ['Timisoara->Arad','Timisoara->Lugoj']\n",
        "        elif state == 'Giurgiu':\n",
        "            possible_actions = ['Giurgiu->Bucharest']\n",
        "        elif state == 'Mehadia':\n",
        "            possible_actions = ['Mehadia->Drobeta','Mehadia->Lugoj']\n",
        "        elif state == 'Vaslui':\n",
        "            possible_actions = ['Vaslui->Iasi','Vaslui->Urziceni']\n",
        "        elif state == 'Neamt':\n",
        "            possible_actions = ['Neamt->Iasi']\n",
        "        else:\n",
        "            possible_actions = []\n",
        "        return possible_actions\n",
        "\n",
        "    # Dati uno stato e un'azione, restituisce lo stato risultante\n",
        "    def result(self, state, action):\n",
        "        # In questo caso, restituisce la seconda parte della stringa che definisce l'azio\n",
        "        # cioe' la sottostringa da '>' in poi\n",
        "\n",
        "        new_state = action[action.index('>')+1:]\n",
        "        return new_state\n",
        "\n",
        "    # Restituisce il costo di ogni possibile azione\n",
        "    # In questo caso, il costo è associato alla distanza tra le città\n",
        "    def action_cost(self, action, stateA, stateB):\n",
        "        if action == 'Arad->Zerind' or  action == 'Zerind->Arad':\n",
        "            return 75\n",
        "        elif action == 'Arad->Sibiu' or action == 'Sibiu->Arad':\n",
        "            return 140\n",
        "        elif action == 'Arad->Timisoara' or action == 'Timisoara->Arad':\n",
        "            return 118\n",
        "        elif action == 'Bucharest->Urziceni' or action == 'Urziceni->Bucharest':\n",
        "            return 85\n",
        "        elif action == 'Bucharest->Pitesti' or action == 'Pitesti->Bucharest':\n",
        "            return 101\n",
        "        elif action == 'Bucharest->Giurgiu'or action == 'Giurgiu->Bucharest':\n",
        "            return 90\n",
        "        elif action == 'Bucharest->Fagaras' or action == 'Fagaras->Bucharest':\n",
        "            return 211\n",
        "        elif action == 'Craiova->Drobeta' or action == 'Drobeta->Craiova':\n",
        "            return 120\n",
        "        elif action ==  'Craiova->Rimnicu' or action == 'Rimnicu->Craiova':\n",
        "            return 146\n",
        "        elif action == 'Craiova->Pitesti' or action == 'Pitesti->Craiova':\n",
        "            return 138\n",
        "        elif action == 'Drobeta->Mehadia' or action == 'Mehadia->Drobeta':\n",
        "            return 75\n",
        "        elif action == 'Eforie->Hirsova' or action == 'Hirsova->Eforie':\n",
        "            return 86\n",
        "        elif action == 'Fagaras->Sibiu' or action == 'Sibiu->Fagaras':\n",
        "            return 99\n",
        "        elif action == 'Hirsova->Urziceni' or action == 'Urziceni->Hirsova':\n",
        "            return 98\n",
        "        elif action == 'Iasi->Vaslui' or action == 'Vaslui->Iasi':\n",
        "            return 92\n",
        "        elif action == 'Iasi->Neamt' or action == 'Neamt->Iasi':\n",
        "            return 87\n",
        "        elif action == 'Lugoj->Timisoara' or action == 'Timisoara->Lugoj':\n",
        "            return 111\n",
        "        elif action == 'Lugoj->Mehadia' or action == 'Mehadia->Lugoj':\n",
        "            return 70\n",
        "        elif action == 'Oradea->Zerind' or action == 'Zerind->Oradea':\n",
        "            return 71\n",
        "        elif action == 'Oradea->Sibiu' or action == 'Sibiu->Oradea':\n",
        "            return 151\n",
        "        elif action == 'Pitesti->Rimnicu' or action == 'Rimnicu->Pitesti':\n",
        "            return 97\n",
        "        elif action == 'Rimnicu->Sibiu' or action == 'Sibiu->Rimnicu':\n",
        "            return 80\n",
        "        elif action == 'Urziceni->Vaslui' or action == 'Vaslui->Urziceni':\n",
        "            return 142\n",
        "        else:\n",
        "            return 0\n",
        "\n",
        "        # Restituisce la distanza euclidea tra due punti su un piano\n",
        "        # Necessaria per il calcolo della funzione euristica\n",
        "        def distanza_euclidea(self, pos1, pos2):\n",
        "            return ((pos1[0] - pos2[0])**2 + (pos1[1] - pos2[1])**2)**0.5\n",
        "\n",
        "        # Restituisce la stima del costo per andare da node.state allo stato obiettivo.\n",
        "        # In questo caso, la stima è la distanza delle due città in linea d'aria\n",
        "        def h(self, node):\n",
        "            citta1 = node.state\n",
        "            citta2 = self.goal_state\n",
        "\n",
        "            return self.distanza_euclidea(self.posizione[citta1], self.posizione[citta2])"
      ]
    },
    {
      "cell_type": "markdown",
      "metadata": {
        "id": "xY2E12983mTR"
      },
      "source": [
        "### **Labirinto di Teseo**"
      ]
    },
    {
      "cell_type": "code",
      "execution_count": 19,
      "metadata": {
        "id": "01AP7UBk3lTu"
      },
      "outputs": [],
      "source": [
        "class Labirinto_Teseo(Problem):\n",
        "\n",
        "    # Definizione di un costruttore custom\n",
        "    # Oltre allo stato iniziale e l'obiettivo, vengono definite le possibili azioni\n",
        "    # È possibile indicare l'ordine con il quale vengono prese in considerazione le azioni\n",
        "    def __init__(self, initial_state='(2,1)', goal_state='(2,4)', possible_actions=['UP', 'DOWN', 'LEFT', 'RIGHT']):\n",
        "        self.initial_state = initial_state\n",
        "        self.goal_state = goal_state\n",
        "        self.possible_actions = possible_actions\n",
        "\n",
        "    # per ogni casella, restituisce l'insieme delle possibili azioni\n",
        "    # in base alla conformazione del labirinto\n",
        "    def actions(self, state):\n",
        "        # initializza la lista delle possibili azioni\n",
        "        # e rimuove le azioni che non possono essere eseguite\n",
        "        possible_actions = self.possible_actions[:]\n",
        "\n",
        "        if (state == '(2,1)') or (state == '(3,2)') or (state == '(1,2)') or (state == '(1,3)') \\\n",
        "            or (state == '(4,1)') or (state == '(4,2)') or (state == '(4,3)') or (state == '(4,4)'):\n",
        "            possible_actions.remove('DOWN')\n",
        "\n",
        "        if (state == '(3,1)') or (state == '(2,2)') or (state == '(2,3)') or (state == '(4,2)') \\\n",
        "           or (state == '(1,1)') or (state == '(1,2)') or (state == '(1,3)') or (state == '(1,4)'):\n",
        "            possible_actions.remove('UP')\n",
        "\n",
        "        if (state == '(3,2)') or (state == '(2,3)') or (state == '(3,3)') or \\\n",
        "        (state == '(1,4)') or (state == '(2,4)') or (state == '(3,4)') or (state == '(4,4)'):\n",
        "            possible_actions.remove('RIGHT')\n",
        "\n",
        "        if (state == '(4,2)') or (state == '(3,4)') or (state == '(3,3)') or \\\n",
        "        (state == '(1,1)') or (state == '(2,1)') or (state == '(3,1)') or (state == '(4,1)'):\n",
        "            possible_actions.remove('LEFT')\n",
        "        return possible_actions\n",
        "\n",
        "    # Restituisce lo stato che si ottiene una volta eseguita l'azione indicata\n",
        "    # mentre si è nella casella 'state'\n",
        "    def result(self, state, action):\n",
        "\n",
        "        # ottiene le coordinate RIGA - COLONNA corrispondenti a state\n",
        "        row = int(state[1:2])\n",
        "        col = int(state[-2:-1])\n",
        "\n",
        "        if action == 'UP':\n",
        "            row = row - 1\n",
        "        elif action == 'DOWN':\n",
        "            row = row + 1\n",
        "        elif action == 'RIGHT':\n",
        "            col = col + 1\n",
        "        elif action == 'LEFT':\n",
        "            col = col - 1\n",
        "\n",
        "        # costruisci la nuova stringa di stato e restituiscila\n",
        "        new_state = '('+str(row)+','+str(col)+')'\n",
        "        return new_state\n",
        "\n",
        "    # Funzione euristica\n",
        "    # Restituisce l'opposto della profondità del nodo\n",
        "    # Viene sottratto il costo del cammino, affinchè f = g + h sia uguale a -node.depth\n",
        "    def h(self, node):\n",
        "        return -node.depth - node.path_cost"
      ]
    },
    {
      "cell_type": "markdown",
      "metadata": {
        "id": "_mZzvAxi4zxH"
      },
      "source": [
        "È possibile definire delle versioni alternative del problema del Labirinto di Teseo, utilizzando funzioni euristiche differenti.<br/>\n",
        "Di seguito, due esempi altre possibili euristiche."
      ]
    },
    {
      "cell_type": "code",
      "execution_count": 20,
      "metadata": {
        "id": "AoR220Ot4Xee"
      },
      "outputs": [],
      "source": [
        "class Labirinto_Teseo_F(Labirinto_Teseo):\n",
        "    def h(self,node):\n",
        "        # l'euristica in questo caso e' data da:\n",
        "        # |row - row_goal| + |col - col_goal|\n",
        "\n",
        "        # calcola row e col dello stato corrispondente al nodo\n",
        "        row = int(node.state[1:2])\n",
        "        col = int(node.state[-2:-1])\n",
        "        # calcola row e col dello stato goal\n",
        "        row_goal = int(self.goal_state[1:2])\n",
        "        col_goal = int(self.goal_state[-2:-1])\n",
        "\n",
        "        return abs(row-row_goal) + abs(col-col_goal)"
      ]
    },
    {
      "cell_type": "code",
      "execution_count": 21,
      "metadata": {
        "id": "KQWGLjRA4Ye-"
      },
      "outputs": [],
      "source": [
        "class Labirinto_Teseo_H(Labirinto_Teseo):\n",
        "\n",
        "    def h(self,node):\n",
        "        # l'euristica in questo caso e' data da:\n",
        "        # |row - row_goal| + |col - col_goal|\n",
        "        # siccome vogliamo che f = h, sottraiamo il valore di g\n",
        "\n",
        "        # calcola row e col dello stato corrispondente al nodo\n",
        "        row = int(node.state[1:2])\n",
        "        col = int(node.state[-2:-1])\n",
        "        # calcola row e col dello stato goal\n",
        "        row_goal = int(self.goal_state[1:2])\n",
        "        col_goal = int(self.goal_state[-2:-1])\n",
        "\n",
        "        return abs(row-row_goal) + abs(col-col_goal) - node.path_cost"
      ]
    },
    {
      "cell_type": "markdown",
      "metadata": {
        "id": "AAhr-qN-9x4H"
      },
      "source": [
        "## Esecuzione di algoritmi di ricerca"
      ]
    },
    {
      "cell_type": "code",
      "execution_count": 25,
      "metadata": {
        "id": "zvX3INWOAioi"
      },
      "outputs": [],
      "source": [
        "from search import breadth_first_search, depth_first_search, depth_first_recursive_search,\\\n",
        "depth_limited_search, depth_recursive_limited_search, uniform_cost_search, astar_search"
      ]
    },
    {
      "cell_type": "markdown",
      "metadata": {
        "id": "4RDzKv62-Je5"
      },
      "source": [
        "Prima dell'esecuzione degli algoritmi, vengono create le istanze dei problemi."
      ]
    },
    {
      "cell_type": "code",
      "execution_count": 41,
      "metadata": {
        "id": "WvE5P_Mu97N_"
      },
      "outputs": [],
      "source": [
        "# vengono usati i parametri di default, con le possibili azioni ['UP', 'DOWN', 'LEFT', 'RIGHT']\n",
        "teseo = Labirinto_Teseo()\n",
        "\n",
        "# è possibile definire un ordine diverso delle possibili azioni\n",
        "teseo1 = Labirinto_Teseo(possible_actions=['UP','RIGHT','DOWN','LEFT'])\n",
        "teseo2 = Labirinto_Teseo(possible_actions=['LEFT','DOWN','RIGHT','UP'])\n",
        "teseo3 = Labirinto_Teseo(possible_actions=['LEFT','RIGHT','DOWN','UP'])\n",
        "\n",
        "# problema con definizione di euristica h = |row - row_goal| + |col - col_goal|\n",
        "# f = g+h\n",
        "teseo_f = Labirinto_Teseo_F()\n",
        "\n",
        "# problema con definizione di euristica h = |row - row_goal| + |col - col_goal|\n",
        "# f = h\n",
        "teseo_h = Labirinto_Teseo_H()"
      ]
    },
    {
      "cell_type": "markdown",
      "metadata": {
        "id": "IeAVXMQoAE8V"
      },
      "source": [
        "Proviamo a risolvere le istanze dei problemi appena definiti"
      ]
    },
    {
      "cell_type": "code",
      "execution_count": 45,
      "metadata": {
        "colab": {
          "base_uri": "https://localhost:8080/"
        },
        "id": "aulBp09DAVPL",
        "outputId": "f8b5b53d-0291-4635-e5e3-e8eb01ada05c"
      },
      "outputs": [
        {
          "output_type": "stream",
          "name": "stdout",
          "text": [
            "Breadth First Search\n",
            "state: (2,4) - path cost: 5\n",
            "['UP', 'RIGHT', 'RIGHT', 'RIGHT', 'DOWN']\n",
            "\n",
            "Depth First Search\n",
            "state: (2,4) - path cost: 5\n",
            "['UP', 'RIGHT', 'RIGHT', 'RIGHT', 'DOWN']\n"
          ]
        }
      ],
      "source": [
        "print('Breadth First Search')\n",
        "solution = breadth_first_search(teseo3)\n",
        "print(solution)\n",
        "print(solution.path_actions())\n",
        "\n",
        "print('\\nDepth First Search')\n",
        "solution = depth_first_search(teseo3)\n",
        "print(solution)\n",
        "print(solution.path_actions())"
      ]
    },
    {
      "cell_type": "code",
      "source": [
        "print('Uniform Cost Search')\n",
        "solution = uniform_cost_search(teseo3)\n",
        "print(solution)\n",
        "print(solution.path_actions())"
      ],
      "metadata": {
        "id": "yree7j2eOzeT",
        "outputId": "bc6e34c8-05c7-4095-d702-d34098cec923",
        "colab": {
          "base_uri": "https://localhost:8080/"
        }
      },
      "execution_count": 46,
      "outputs": [
        {
          "output_type": "stream",
          "name": "stdout",
          "text": [
            "Uniform Cost Search\n",
            "state: (2,4) - path cost: 5\n",
            "['UP', 'RIGHT', 'RIGHT', 'RIGHT', 'DOWN']\n"
          ]
        }
      ]
    },
    {
      "cell_type": "code",
      "source": [
        "print('A* Search')\n",
        "solution = depth_first_search(teseo3)\n",
        "print(solution)\n",
        "print(solution.path_actions())\n",
        "\n",
        "print('\\nA* Search')\n",
        "solution = depth_first_search(teseo_f)\n",
        "print(solution)\n",
        "print(solution.path_actions())\n",
        "\n",
        "print('\\nA* Search')\n",
        "solution = depth_first_search(teseo_h)\n",
        "print(solution)\n",
        "print(solution.path_actions())"
      ],
      "metadata": {
        "id": "Zriq_czoO-Wa",
        "outputId": "f65530e4-81b3-48a2-d650-6f80993c0d5c",
        "colab": {
          "base_uri": "https://localhost:8080/"
        }
      },
      "execution_count": 43,
      "outputs": [
        {
          "output_type": "stream",
          "name": "stdout",
          "text": [
            "A* Search\n",
            "state: (2,4) - path cost: 5\n",
            "['UP', 'RIGHT', 'RIGHT', 'RIGHT', 'DOWN']\n",
            "\n",
            "A* Search\n",
            "state: (2,4) - path cost: 5\n",
            "['UP', 'RIGHT', 'RIGHT', 'RIGHT', 'DOWN']\n",
            "\n",
            "A* Search\n",
            "state: (2,4) - path cost: 5\n",
            "['UP', 'RIGHT', 'RIGHT', 'RIGHT', 'DOWN']\n"
          ]
        }
      ]
    }
  ],
  "metadata": {
    "colab": {
      "provenance": []
    },
    "kernelspec": {
      "display_name": "Python 3",
      "name": "python3"
    },
    "language_info": {
      "name": "python"
    }
  },
  "nbformat": 4,
  "nbformat_minor": 0
}